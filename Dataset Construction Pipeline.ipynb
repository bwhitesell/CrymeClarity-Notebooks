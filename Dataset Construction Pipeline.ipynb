{
 "cells": [
  {
   "cell_type": "code",
   "execution_count": 1,
   "metadata": {},
   "outputs": [],
   "source": [
    "#import findspark\n",
    "#findspark.init()\n",
    "import pyspark\n",
    "from matplotlib import pyplot as plt\n",
    "from utils import *\n",
    "from pyspark.sql.functions import collect_list\n",
    "APP_NAME = 'Exploration-Notebook'\n",
    "sc = pyspark.SparkContext()\n",
    "spark = pyspark.sql.SparkSession(sc).builder.appName(APP_NAME).getOrCreate()"
   ]
  },
  {
   "cell_type": "code",
   "execution_count": null,
   "metadata": {},
   "outputs": [],
   "source": [
    "ds = spark.read.format(\"com.mongodb.spark.sql.DefaultSource\").option(\"uri\",\n",
    "\"mongodb://localhost/crymeclarity.incidents\").load()"
   ]
  },
  {
   "cell_type": "code",
   "execution_count": null,
   "metadata": {},
   "outputs": [],
   "source": [
    "from pyspark.sql.types import ArrayType, StructType, IntegerType, StructField, StringType, FloatType, TimestampType, DecimalType\n",
    "from pyspark.sql.functions import udf\n",
    "import pyspark.sql.functions as psf\n",
    "from pyspark.sql.functions import col\n",
    "import mpu\n",
    "\n",
    "def assign_coordinate_to_lat_box(latitude):\n",
    "    try:\n",
    "        lat_box = abs(int(latitude/(1*.008726950000000073)))\n",
    "        return lat_box\n",
    "    except ValueError:\n",
    "        return 0\n",
    "    \n",
    "def assign_coordinate_to_lon_box(longitude):\n",
    "    try:\n",
    "        lon_box = abs(int(longitude/(1*0.007254180000003885)))\n",
    "        return lon_box\n",
    "    except ValueError:\n",
    "        return 0\n",
    "\n",
    "def time_occ_to_seconds(time_occ):\n",
    "    try:\n",
    "        return int(time_occ[:2])*60**2 + int(time_occ[2:])*60\n",
    "    except ValueError:\n",
    "        return -99\n",
    "\n",
    "actb_lat = udf(assign_coordinate_to_lat_box, IntegerType())\n",
    "actb_lon = udf(assign_coordinate_to_lon_box, IntegerType())\n",
    "ts_conv = udf(cla_timestamp_to_datetime, TimestampType())\n",
    "t_occ_conv = udf(time_occ_to_seconds, IntegerType())\n",
    "space_dist = udf(lambda w, x, y, z: mpu.haversine_distance((w, x), (y, z))*0.621371, FloatType())\n",
    "\n"
   ]
  },
  {
   "cell_type": "code",
   "execution_count": null,
   "metadata": {},
   "outputs": [],
   "source": [
    "# clean data\n",
    "\n",
    "ds = ds.withColumn('date_occ', ts_conv(ds.date_occ)) #  convert timestamp strings to datetime\n",
    "ds = ds.filter(ds['date_occ'] > datetime.datetime(year=2018, month=3, day=27))  # only days after jan 1 2018 / remove invalid strings\n",
    "ds = ds.withColumn('time_occ_seconds', t_occ_conv(ds.time_occ))  # convert time occurred to seconds\n",
    "ds = ds.filter(ds.time_occ_seconds >= 0)  # remove invalid choices\n",
    "ds = ds.withColumn('date_occ_unix', psf.unix_timestamp(ds.date_occ))  # convert datetime to unix timestamp\n",
    "\n",
    "\n",
    "ds = ds.withColumn('lat_bb_c', actb_lat(ds.location_1.coordinates[0]))  # assign coordinates to bounding box\n",
    "ds = ds.withColumn('lon_bb_c', actb_lon(ds.location_1.coordinates[1]))  # assign coordinates to bounding box\n",
    "ds = ds.withColumn('ts_occ_unix', ds.date_occ_unix + ds.time_occ_seconds)  # engineer timestamp in unix feature"
   ]
  },
  {
   "cell_type": "code",
   "execution_count": null,
   "metadata": {},
   "outputs": [],
   "source": [
    "#  A should require no cleaning as all the data should be pre-vetted by the generation script\n",
    "A = spark.read.format(\"jdbc\").options(\n",
    "url =\"jdbc:mysql://localhost/crymeweb?serverTimezone=UTC\",\n",
    "driver=\"com.mysql.jdbc.Driver\",\n",
    "dbtable=\"safety_safetyanalysisrequest\",\n",
    "user=\"root\",\n",
    "password=\"\"\n",
    ").load()\n",
    "\n",
    "# engineer features\n",
    "A = A.withColumn('lat_bb', actb_lat(A.latitude))  # assign coordinates to bounding box\n",
    "A = A.withColumn('lon_bb', actb_lon(A.longitude))  # assign coordinates to bounding box\n",
    "A = A.withColumn('timestamp_unix', psf.unix_timestamp(A.timestamp))  # convert datetime to unix timestamp"
   ]
  },
  {
   "cell_type": "code",
   "execution_count": null,
   "metadata": {},
   "outputs": [],
   "source": [
    "#  begin grid search and merge\n",
    "\n",
    "results = None\n",
    "for i in range(-1, 2):\n",
    "    for j in range(-1, 2):\n",
    "        B = A.withColumn('lat_bb', A.lat_bb + i)\n",
    "        B = B.withColumn('lon_bb', A.lon_bb + j)\n",
    "        \n",
    "        res = B.join(ds, (B.lat_bb == ds.lat_bb_c)& (B.lon_bb == ds.lon_bb_c))\n",
    "        \n",
    "        res = res.filter(res.ts_occ_unix - res.timestamp_unix < 3600)\n",
    "        res = res.filter(res.ts_occ_unix - res.timestamp_unix > 0)\n",
    "        \n",
    "        res = res.withColumn('distance', space_dist(\n",
    "                res.longitude,\n",
    "                res.latitude,\n",
    "                res.location_1.coordinates[1],\n",
    "                res.location_1.coordinates[0],\n",
    "            ))\n",
    "        res = res.filter(res.distance < .5)\n",
    "        results = results.union(res) if results else res\n",
    "        \n",
    "results = results.groupBy(col('id')).count()\n",
    "\n"
   ]
  },
  {
   "cell_type": "code",
   "execution_count": null,
   "metadata": {},
   "outputs": [],
   "source": [
    "fin = A.join(results, \"id\", \"left_outer\")"
   ]
  },
  {
   "cell_type": "code",
   "execution_count": null,
   "metadata": {},
   "outputs": [],
   "source": [
    "exp = fin.toPandas()"
   ]
  },
  {
   "cell_type": "code",
   "execution_count": null,
   "metadata": {},
   "outputs": [],
   "source": [
    "exp.to_csv('/Users/ben/Desktop/crime_data.csv', index=False)"
   ]
  },
  {
   "cell_type": "code",
   "execution_count": null,
   "metadata": {},
   "outputs": [],
   "source": []
  }
 ],
 "metadata": {
  "kernelspec": {
   "display_name": "Python 3",
   "language": "python",
   "name": "python3"
  },
  "language_info": {
   "codemirror_mode": {
    "name": "ipython",
    "version": 3
   },
   "file_extension": ".py",
   "mimetype": "text/x-python",
   "name": "python",
   "nbconvert_exporter": "python",
   "pygments_lexer": "ipython3",
   "version": "3.6.5"
  }
 },
 "nbformat": 4,
 "nbformat_minor": 2
}
