{
 "cells": [
  {
   "cell_type": "code",
   "execution_count": 1,
   "metadata": {},
   "outputs": [],
   "source": [
    "#import findspark\n",
    "#findspark.init()\n",
    "import pyspark\n",
    "from matplotlib import pyplot as plt\n",
    "from utils import *\n",
    "from pyspark.sql.functions import collect_list\n",
    "APP_NAME = 'Exploration-Notebook'\n",
    "sc = pyspark.SparkContext()\n",
    "spark = pyspark.sql.SparkSession(sc).builder.appName(APP_NAME).getOrCreate()"
   ]
  },
  {
   "cell_type": "code",
   "execution_count": 2,
   "metadata": {},
   "outputs": [],
   "source": [
    "ds = spark.read.format(\"com.mongodb.spark.sql.DefaultSource\").option(\"uri\",\n",
    "\"mongodb://localhost/crymeclarity.incidents\").load()"
   ]
  },
  {
   "cell_type": "code",
   "execution_count": 3,
   "metadata": {},
   "outputs": [],
   "source": [
    "from pyspark.sql.types import ArrayType, StructType, IntegerType, StructField, StringType, FloatType, TimestampType, DecimalType\n",
    "from pyspark.sql.functions import udf\n",
    "\n",
    "def assign_coordinate_to_lat_box(latitude):\n",
    "    lat_box = abs(int(latitude/(1*.008726950000000073)))\n",
    "    return lat_box\n",
    "def assign_coordinate_to_lon_box(longitude):\n",
    "    lon_box = abs(int(longitude/(1*0.007254180000003885)))\n",
    "    return lon_box\n",
    "\n",
    "def time_occ_to_seconds(time_occ):\n",
    "    return int(time_occ[:2])*60**2 + int(time_occ[2:])*60\n",
    "\n",
    "actb_lat = udf(assign_coordinate_to_lat_box, IntegerType())\n",
    "actb_lon = udf(assign_coordinate_to_lon_box, IntegerType())\n",
    "ts_conv = udf(cla_timestamp_to_datetime, TimestampType())\n",
    "t_occ_conv = udf(time_occ_to_seconds, IntegerType())\n",
    "\n"
   ]
  },
  {
   "cell_type": "code",
   "execution_count": 4,
   "metadata": {},
   "outputs": [],
   "source": [
    "ds = ds.withColumn('lat_bb_c', actb_lat(ds.location_1.coordinates[0]))\n",
    "ds = ds.withColumn('lon_bb_c', actb_lon(ds.location_1.coordinates[1]))\n",
    "ds = ds.withColumn('date_occ', ts_conv(ds.date_occ))\n",
    "ds = ds.withColumn('time_occ_seconds', t_occ_conv(ds.time_occ))\n",
    "ds = ds.filter(ds['date_occ'] > datetime.datetime(year=2018, month=3, day=27))  # only days after jan 1 2018"
   ]
  },
  {
   "cell_type": "code",
   "execution_count": 5,
   "metadata": {},
   "outputs": [],
   "source": [
    "A = spark.read.format(\"jdbc\").options(\n",
    "url =\"jdbc:mysql://localhost/crymeweb?serverTimezone=UTC\",\n",
    "driver=\"com.mysql.jdbc.Driver\",\n",
    "dbtable=\"safety_safetyanalysisrequest\",\n",
    "user=\"root\",\n",
    "password=\"\"\n",
    ").load()\n"
   ]
  },
  {
   "cell_type": "code",
   "execution_count": 6,
   "metadata": {},
   "outputs": [],
   "source": [
    "A = A.withColumn('lat_bb', actb_lat(A.latitude))\n",
    "A = A.withColumn('lon_bb', actb_lon(A.longitude))"
   ]
  },
  {
   "cell_type": "code",
   "execution_count": 7,
   "metadata": {},
   "outputs": [],
   "source": [
    "import pyspark.sql.functions as psf\n",
    "from pyspark.sql.functions import col\n",
    "import mpu\n",
    "space_dist = udf(lambda w, x, y, z: mpu.haversine_distance((w, x), (y, z))*0.621371, FloatType())\n",
    "\n",
    "\n",
    "results = None\n",
    "for i in range(-1, 2):\n",
    "    for j in range(-1, 2):\n",
    "        B = A.withColumn('lat_bb', A.lat_bb + i)\n",
    "        B = B.withColumn('lon_bb', A.lon_bb + j)\n",
    "        \n",
    "        res = B.join(ds, (B.lat_bb == ds.lat_bb_c)& (B.lon_bb == ds.lon_bb_c))\n",
    "        res = res.withColumn('timestamp_unix', psf.unix_timestamp(res.timestamp))\n",
    "        res = res.withColumn('date_occ_unix', psf.unix_timestamp(res.date_occ))\n",
    "        res = res.withColumn('ts_occ_unix', res.date_occ_unix + res.time_occ_seconds)\n",
    "        \n",
    "        res = res.filter(res.ts_occ_unix - res.timestamp_unix < 3600)\n",
    "        res = res.filter(res.ts_occ_unix - res.timestamp_unix > 0)\n",
    "        \n",
    "        res = res.withColumn('distance', space_dist(\n",
    "                res.longitude,\n",
    "                res.latitude,\n",
    "                res.location_1.coordinates[1],\n",
    "                res.location_1.coordinates[0],\n",
    "            ))\n",
    "        res = res.filter(res.distance < .5)\n",
    "        results = results.union(res) if results else res\n"
   ]
  },
  {
   "cell_type": "code",
   "execution_count": 8,
   "metadata": {},
   "outputs": [
    {
     "data": {
      "text/plain": [
       "2921"
      ]
     },
     "execution_count": 8,
     "metadata": {},
     "output_type": "execute_result"
    }
   ],
   "source": [
    "results.count()"
   ]
  },
  {
   "cell_type": "code",
   "execution_count": 11,
   "metadata": {},
   "outputs": [
    {
     "name": "stdout",
     "output_type": "stream",
     "text": [
      "+------+------------------+-------------------+------------------+--------------------+-------------------+--------------------+\n",
      "|    id|               :id|           latitude|         longitude|           timestamp|           date_occ|         crm_cd_desc|\n",
      "+------+------------------+-------------------+------------------+--------------------+-------------------+--------------------+\n",
      "|110059|row-6h6h_3txk.zrnk|-118.32305066104232| 34.11346299742185|2018-09-21 22:01:...|2018-09-21 00:00:00|BURGLARY FROM VEH...|\n",
      "|115446|row-xtbs.a56b-8ea2|-118.28719698531107|34.104247057654334|2018-11-26 23:57:...|2018-11-27 00:00:00|VANDALISM - MISDE...|\n",
      "|117649|row-wn4b_y49t.i9nr|-118.32945743517149|34.001011320207645|2018-06-08 20:22:...|2018-06-08 00:00:00|BATTERY - SIMPLE ...|\n",
      "|142822|row-mzu5.hgvv~7rh6|-118.41631976112897|33.966084985522045|2018-09-19 22:44:...|2018-09-19 00:00:00|THEFT FROM MOTOR ...|\n",
      "|112384|row-bu93.4b54_c3ak|-118.40080661173324| 34.19285787968577|2018-05-24 18:49:...|2018-05-24 00:00:00|SHOPLIFTING - PET...|\n",
      "|125610|row-aayu_dfi4.6g8a|-118.45245218097814| 34.24766352721349|2018-05-02 20:00:...|2018-05-02 00:00:00|    VEHICLE - STOLEN|\n",
      "|159763|row-t7m9.5ke7.98mj|-118.33793465074639|34.010245094477675|2018-04-12 12:40:...|2018-04-12 00:00:00|             ROBBERY|\n",
      "|122320|row-brv4_dwmf~qpmz|-118.30290999142188| 34.08208648857423|2018-12-11 20:34:...|2018-12-11 00:00:00|BURGLARY FROM VEH...|\n",
      "|126765|row-hqda~2kr8-xkv2|-118.34861767568947| 34.10230354501033|2018-04-07 23:18:...|2018-04-07 00:00:00|             ROBBERY|\n",
      "|150629|row-5bws-ngua_e9x8|-118.56087114384225| 34.18934815105618|2018-11-26 14:28:...|2018-11-26 00:00:00|SHOPLIFTING - PET...|\n",
      "|146005|row-vkiv.uakr.b7yf| -118.4597431770311| 34.22598571161775|2018-04-05 14:44:...|2018-04-05 00:00:00|INTIMATE PARTNER ...|\n",
      "|164623|row-eeu5-4ha9-gpf8| -118.3117975420698|34.066616682995786|2018-10-27 22:01:...|2018-10-27 00:00:00|BURGLARY FROM VEH...|\n",
      "|116771|row-drzz_6dqb~kgwh|-118.19908949991164| 34.03924760281627|2018-05-20 18:47:...|2018-05-20 00:00:00|ASSAULT WITH DEAD...|\n",
      "|123078|row-e25x-grpv.vcjt|-118.44560912842468| 34.16083567798772|2018-07-10 16:59:...|2018-07-10 00:00:00|SHOPLIFTING - PET...|\n",
      "|134950|row-5k8b.yndp.7ek7|-118.29785070147965| 33.79196493533543|2018-09-13 13:39:...|2018-09-13 00:00:00|    VEHICLE - STOLEN|\n",
      "|103505|row-qnq6~ja92-524c|-118.20025539680802| 34.08242780889108|2018-12-08 21:57:...|2018-12-08 00:00:00|            BURGLARY|\n",
      "|156795|row-f7nr~s7kc.4xf7|-118.29640214898589| 33.98991013274512|2018-08-08 17:27:...|2018-08-08 00:00:00|VANDALISM - FELON...|\n",
      "| 92274|row-aqfa.daw9.84fd|-118.41978556134146| 34.14637464301806|2019-01-31 18:13:...|2019-01-31 00:00:00|BURGLARY FROM VEH...|\n",
      "|104994|row-jsrt.e3zg_gdcf| -118.6088382562093| 34.19704823997846|2018-09-01 16:26:...|2018-09-01 00:00:00|THEFT-GRAND ($950...|\n",
      "| 91116|row-ki9t~kd73_xcb3|-118.26961006858342|33.957333710075254|2018-12-27 13:09:...|2018-12-27 00:00:00|            BURGLARY|\n",
      "+------+------------------+-------------------+------------------+--------------------+-------------------+--------------------+\n",
      "only showing top 20 rows\n",
      "\n"
     ]
    }
   ],
   "source": [
    "results.select('id', ':id', 'latitude', 'longitude', 'timestamp', 'date_occ', 'crm_cd_desc').show(20)\n"
   ]
  },
  {
   "cell_type": "code",
   "execution_count": 9,
   "metadata": {},
   "outputs": [
    {
     "data": {
      "text/plain": [
       "Row(id=110059, latitude=-118.32305066104232, longitude=34.11346299742185, timestamp=datetime.datetime(2018, 9, 21, 22, 1, 6, 477445), estimate=None, model_id=None, lat_bb=13557, lon_bb=4701, :@computed_region_2dna_qi2s='64', :@computed_region_k96s_3jcv='405', :@computed_region_kqwf_mjcx='7', :@computed_region_qz3q_ghft='24033', :@computed_region_tatf_ua23='552', :@computed_region_ur2y_g4cx=None, :created_at='2019-03-01T01:40:14.931Z', :id='row-6h6h_3txk.zrnk', :updated_at='2019-03-01T01:42:00.088Z', :version='rv-ts9t-6ga6.29us', _id='row-6h6h_3txk.zrnk', area_id=None, area_name='Hollywood', crm_cd='330', crm_cd_1='330', crm_cd_2=None, crm_cd_desc='BURGLARY FROM VEHICLE', cross_street='CHULA VISTA', date_occ=datetime.datetime(2018, 9, 21, 0, 0), date_rptd='2018-09-22T00:00:00.000', dr_no='180620687', location='TAMARIND', location_1=Row(type='Point', coordinates=[-118.3193, 34.1074]), mocodes='1300 1307 1601 1609 0329 0344', premis_cd='101', premis_desc='STREET', record_inserted_at=datetime.datetime(2019, 3, 28, 20, 49, 42, 593000), rpt_dist_no='0628', status='IC', status_desc='Invest Cont', time_occ='2215', vict_age='34', vict_descent='O', vict_sex='M', weapon_desc=None, weapon_used_cd=None, lat_bb_c=13557, lon_bb_c=4701, time_occ_seconds=80100, timestamp_unix=1537592466, date_occ_unix=1537513200, ts_occ_unix=1537593300, distance=0.47066381573677063)"
      ]
     },
     "execution_count": 9,
     "metadata": {},
     "output_type": "execute_result"
    }
   ],
   "source": [
    "results.first()"
   ]
  },
  {
   "cell_type": "code",
   "execution_count": null,
   "metadata": {},
   "outputs": [],
   "source": [
    "from pyspark.sql.functions import desc\n",
    "\n",
    "ds.orderBy('timestamp').show(3)"
   ]
  },
  {
   "cell_type": "code",
   "execution_count": null,
   "metadata": {},
   "outputs": [],
   "source": []
  }
 ],
 "metadata": {
  "kernelspec": {
   "display_name": "Python 3",
   "language": "python",
   "name": "python3"
  },
  "language_info": {
   "codemirror_mode": {
    "name": "ipython",
    "version": 3
   },
   "file_extension": ".py",
   "mimetype": "text/x-python",
   "name": "python",
   "nbconvert_exporter": "python",
   "pygments_lexer": "ipython3",
   "version": "3.6.5"
  }
 },
 "nbformat": 4,
 "nbformat_minor": 2
}
