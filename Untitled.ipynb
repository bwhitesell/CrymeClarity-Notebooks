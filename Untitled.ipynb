{
 "cells": [
  {
   "cell_type": "code",
   "execution_count": 1,
   "metadata": {},
   "outputs": [],
   "source": [
    "#import findspark\n",
    "#findspark.init()\n",
    "import pyspark\n",
    "from matplotlib import pyplot as plt\n",
    "from utils import *\n",
    "from pyspark.sql.functions import collect_list\n",
    "APP_NAME = 'Exploration-Notebook'\n",
    "sc = pyspark.SparkContext()\n",
    "spark = pyspark.sql.SparkSession(sc).builder.appName(APP_NAME).getOrCreate()"
   ]
  },
  {
   "cell_type": "code",
   "execution_count": 19,
   "metadata": {},
   "outputs": [],
   "source": [
    "ds = spark.read.format(\"com.mongodb.spark.sql.DefaultSource\").option(\"uri\",\n",
    "\"mongodb://localhost/crymeclarity.incidents\").load()"
   ]
  },
  {
   "cell_type": "code",
   "execution_count": 20,
   "metadata": {},
   "outputs": [],
   "source": [
    "from pyspark.sql.types import ArrayType, StructType, IntegerType, StructField, StringType, FloatType, TimestampType, DecimalType\n",
    "from pyspark.sql.functions import udf\n",
    "\n",
    "def assign_coordinate_to_lat_box(latitude):\n",
    "    lat_box = abs(int(latitude/(1*.008726950000000073)))\n",
    "    return lat_box\n",
    "def assign_coordinate_to_lon_box(longitude):\n",
    "    lon_box = abs(int(longitude/(1*0.007254180000003885)))\n",
    "    return lon_box\n",
    "\n",
    "def time_occ_to_seconds(time_occ):\n",
    "    return int(time_occ[:2])*60**2 + int(time_occ[2:])*60\n",
    "\n",
    "actb_lat = udf(assign_coordinate_to_lat_box, IntegerType())\n",
    "actb_lon = udf(assign_coordinate_to_lon_box, IntegerType())\n",
    "ts_conv = udf(cla_timestamp_to_datetime, TimestampType())\n",
    "t_occ_conv = udf(time_occ_to_seconds, IntegerType())"
   ]
  },
  {
   "cell_type": "code",
   "execution_count": 21,
   "metadata": {},
   "outputs": [],
   "source": [
    "ds = ds.withColumn('lat_bb_c', actb_lat(ds.location_1.coordinates[0]))\n",
    "ds = ds.withColumn('lon_bb_c', actb_lon(ds.location_1.coordinates[1]))\n",
    "ds = ds.withColumn('date_occ', ts_conv(ds.date_occ))\n",
    "ds = ds.withColumn('time_occ_seconds', t_occ_conv(ds.time_occ))"
   ]
  },
  {
   "cell_type": "code",
   "execution_count": 22,
   "metadata": {},
   "outputs": [],
   "source": [
    "A = spark.read.format(\"jdbc\").options(\n",
    "url =\"jdbc:mysql://localhost/crymeweb?serverTimezone=UTC\",\n",
    "driver=\"com.mysql.jdbc.Driver\",\n",
    "dbtable=\"safety_safetyanalysisrequest\",\n",
    "user=\"root\",\n",
    "password=\"\"\n",
    ").load()\n"
   ]
  },
  {
   "cell_type": "code",
   "execution_count": 23,
   "metadata": {},
   "outputs": [],
   "source": [
    "A = A.withColumn('lat_bb', actb_lat(A.latitude))\n",
    "A = A.withColumn('lon_bb', actb_lon(A.longitude))"
   ]
  },
  {
   "cell_type": "code",
   "execution_count": 24,
   "metadata": {},
   "outputs": [],
   "source": [
    "import pyspark.sql.functions as psf\n",
    "from pyspark.sql.functions import col\n",
    "import mpu\n",
    "space_dist = udf(lambda w, x, y, z: mpu.haversine_distance((w, x), (y, z))*0.621371, FloatType())\n",
    "\n",
    "\n",
    "results = None\n",
    "for i in range(-1, 2):\n",
    "    for j in range(-1, 2):\n",
    "        B = A.withColumn('lat_bb', A.lat_bb + i)\n",
    "        B = B.withColumn('lon_bb', A.lon_bb + j)\n",
    "        \n",
    "        res = B.join(ds, (B.lat_bb == ds.lat_bb_c)& (B.lon_bb == ds.lon_bb_c))\n",
    "        res = res.withColumn('timestamp_unix', psf.unix_timestamp(res.timestamp))\n",
    "        res = res.withColumn('date_occ_unix', psf.unix_timestamp(res.date_occ))\n",
    "        res = res.withColumn('ts_occ_unix', res.date_occ_unix + res.time_occ_seconds)\n",
    "        \n",
    "        res = res.filter(res.ts_occ_unix - res.timestamp_unix < 3600)\n",
    "        res = res.filter(res.ts_occ_unix - res.timestamp_unix > 0)\n",
    "        \n",
    "        res = res.withColumn('distance', space_dist(\n",
    "                res.longitude,\n",
    "                res.latitude,\n",
    "                res.location_1.coordinates[1],\n",
    "                res.location_1.coordinates[0],\n",
    "            ))\n",
    "        res = res.filter(res.distance < .5)\n",
    "        results = results.union(res) if results else res\n"
   ]
  },
  {
   "cell_type": "code",
   "execution_count": 26,
   "metadata": {},
   "outputs": [
    {
     "data": {
      "text/plain": [
       "214"
      ]
     },
     "execution_count": 26,
     "metadata": {},
     "output_type": "execute_result"
    }
   ],
   "source": [
    "results.count()"
   ]
  },
  {
   "cell_type": "code",
   "execution_count": 27,
   "metadata": {},
   "outputs": [],
   "source": [
    "re = results.select(':id', 'id').toPandas()"
   ]
  },
  {
   "cell_type": "code",
   "execution_count": 46,
   "metadata": {},
   "outputs": [
    {
     "name": "stdout",
     "output_type": "stream",
     "text": [
      "+-----+-------------------+-----------------+--------------------+--------+--------+------+------+\n",
      "|   id|           latitude|        longitude|           timestamp|estimate|model_id|lat_bb|lon_bb|\n",
      "+-----+-------------------+-----------------+--------------------+--------+--------+------+------+\n",
      "|51777|-118.19438636182308|34.09015904415087|2019-03-17 04:51:...|    null|    null| 13543|  4699|\n",
      "+-----+-------------------+-----------------+--------------------+--------+--------+------+------+\n",
      "\n"
     ]
    }
   ],
   "source": [
    "A.filter(A.id==51777).show()"
   ]
  },
  {
   "cell_type": "code",
   "execution_count": 49,
   "metadata": {},
   "outputs": [
    {
     "name": "stdout",
     "output_type": "stream",
     "text": [
      "+---------------------------+---------------------------+---------------------------+---------------------------+---------------------------+---------------------------+--------------------+------------------+--------------------+-----------------+------------------+-------+----------+------+--------+--------+--------------------+------------+-------------------+--------------------+---------+--------------------+--------------------+---------+---------+-----------+--------------------+-----------+------+-----------+--------+--------+------------+--------+-----------+--------------+--------+--------+----------------+\n",
      "|:@computed_region_2dna_qi2s|:@computed_region_k96s_3jcv|:@computed_region_kqwf_mjcx|:@computed_region_qz3q_ghft|:@computed_region_tatf_ua23|:@computed_region_ur2y_g4cx|         :created_at|               :id|         :updated_at|         :version|               _id|area_id| area_name|crm_cd|crm_cd_1|crm_cd_2|         crm_cd_desc|cross_street|           date_occ|           date_rptd|    dr_no|            location|          location_1|  mocodes|premis_cd|premis_desc|  record_inserted_at|rpt_dist_no|status|status_desc|time_occ|vict_age|vict_descent|vict_sex|weapon_desc|weapon_used_cd|lat_bb_c|lon_bb_c|time_occ_seconds|\n",
      "+---------------------------+---------------------------+---------------------------+---------------------------+---------------------------+---------------------------+--------------------+------------------+--------------------+-----------------+------------------+-------+----------+------+--------+--------+--------------------+------------+-------------------+--------------------+---------+--------------------+--------------------+---------+---------+-----------+--------------------+-----------+------+-----------+--------+--------+------------+--------+-----------+--------------+--------+--------+----------------+\n",
      "|                         92|                        490|                         11|                      23448|                        606|                       null|2019-03-26T18:12:...|row-ttw5~9nep~aydw|2019-03-26T18:12:...|rv-2gjk_mbxz~p6y4|row-ttw5~9nep~aydw|     04|Hollenbeck|   745|     745|    null|VANDALISM - MISDE...|        null|2019-03-17 00:00:00|2019-03-17T00:00:...|190407156|3900    EVADALE  ...|[Point, [-118.199...|0342 0329|      101|     STREET|2019-03-26 15:10:...|       0402|    IC|Invest Cont|    0500|      25|           H|       M|       null|          null|   13544|    4699|           18000|\n",
      "+---------------------------+---------------------------+---------------------------+---------------------------+---------------------------+---------------------------+--------------------+------------------+--------------------+-----------------+------------------+-------+----------+------+--------+--------+--------------------+------------+-------------------+--------------------+---------+--------------------+--------------------+---------+---------+-----------+--------------------+-----------+------+-----------+--------+--------+------------+--------+-----------+--------------+--------+--------+----------------+\n",
      "\n"
     ]
    }
   ],
   "source": [
    "ds.filter(ds[':id']=='row-ttw5~9nep~aydw').show()"
   ]
  },
  {
   "cell_type": "code",
   "execution_count": 47,
   "metadata": {},
   "outputs": [
    {
     "data": {
      "text/html": [
       "<div>\n",
       "<style scoped>\n",
       "    .dataframe tbody tr th:only-of-type {\n",
       "        vertical-align: middle;\n",
       "    }\n",
       "\n",
       "    .dataframe tbody tr th {\n",
       "        vertical-align: top;\n",
       "    }\n",
       "\n",
       "    .dataframe thead th {\n",
       "        text-align: right;\n",
       "    }\n",
       "</style>\n",
       "<table border=\"1\" class=\"dataframe\">\n",
       "  <thead>\n",
       "    <tr style=\"text-align: right;\">\n",
       "      <th></th>\n",
       "      <th>:id</th>\n",
       "      <th>id</th>\n",
       "    </tr>\n",
       "  </thead>\n",
       "  <tbody>\n",
       "    <tr>\n",
       "      <th>186</th>\n",
       "      <td>row-nfx7-2ybp~ti7t</td>\n",
       "      <td>51777</td>\n",
       "    </tr>\n",
       "    <tr>\n",
       "      <th>187</th>\n",
       "      <td>row-ttw5~9nep~aydw</td>\n",
       "      <td>51777</td>\n",
       "    </tr>\n",
       "  </tbody>\n",
       "</table>\n",
       "</div>"
      ],
      "text/plain": [
       "                    :id     id\n",
       "186  row-nfx7-2ybp~ti7t  51777\n",
       "187  row-ttw5~9nep~aydw  51777"
      ]
     },
     "execution_count": 47,
     "metadata": {},
     "output_type": "execute_result"
    }
   ],
   "source": [
    "re[re['id']==51777]"
   ]
  },
  {
   "cell_type": "code",
   "execution_count": 42,
   "metadata": {},
   "outputs": [
    {
     "data": {
      "text/plain": [
       "id\n",
       "49959    3\n",
       "47136    2\n",
       "51777    2\n",
       "53186    2\n",
       "48768    2\n",
       "54613    2\n",
       "52195    2\n",
       "46400    2\n",
       "52473    2\n",
       "55996    1\n",
       "49246    1\n",
       "49613    1\n",
       "49553    1\n",
       "49365    1\n",
       "49337    1\n",
       "49256    1\n",
       "49215    1\n",
       "49218    1\n",
       "49766    1\n",
       "49156    1\n",
       "48941    1\n",
       "48881    1\n",
       "48834    1\n",
       "48799    1\n",
       "48651    1\n",
       "48603    1\n",
       "48600    1\n",
       "48587    1\n",
       "49760    1\n",
       "49940    1\n",
       "        ..\n",
       "51199    1\n",
       "51187    1\n",
       "51122    1\n",
       "55937    1\n",
       "51830    1\n",
       "51894    1\n",
       "53393    1\n",
       "51915    1\n",
       "53383    1\n",
       "53375    1\n",
       "53351    1\n",
       "53331    1\n",
       "53252    1\n",
       "53236    1\n",
       "53185    1\n",
       "53126    1\n",
       "52959    1\n",
       "52929    1\n",
       "52872    1\n",
       "52759    1\n",
       "52755    1\n",
       "52555    1\n",
       "52522    1\n",
       "52490    1\n",
       "52448    1\n",
       "52333    1\n",
       "52199    1\n",
       "52141    1\n",
       "51947    1\n",
       "46005    1\n",
       "Name: id, Length: 204, dtype: int64"
      ]
     },
     "execution_count": 42,
     "metadata": {},
     "output_type": "execute_result"
    }
   ],
   "source": [
    "re.groupby('id').id.agg('count').sort_values(ascending=False)"
   ]
  },
  {
   "cell_type": "code",
   "execution_count": null,
   "metadata": {},
   "outputs": [],
   "source": []
  }
 ],
 "metadata": {
  "kernelspec": {
   "display_name": "Python 3",
   "language": "python",
   "name": "python3"
  },
  "language_info": {
   "codemirror_mode": {
    "name": "ipython",
    "version": 3
   },
   "file_extension": ".py",
   "mimetype": "text/x-python",
   "name": "python",
   "nbconvert_exporter": "python",
   "pygments_lexer": "ipython3",
   "version": "3.6.5"
  }
 },
 "nbformat": 4,
 "nbformat_minor": 2
}
