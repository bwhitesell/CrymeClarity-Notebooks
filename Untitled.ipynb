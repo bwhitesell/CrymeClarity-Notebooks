{
 "cells": [
  {
   "cell_type": "code",
   "execution_count": 2,
   "metadata": {},
   "outputs": [],
   "source": [
    "import findspark\n",
    "findspark.init()\n",
    "import pyspark\n",
    "from utils import *\n",
    "from pyspark.sql.functions import collect_list\n",
    "APP_NAME = 'Exploration-Notebook'\n",
    "sc = pyspark.SparkContext()\n",
    "spark = pyspark.sql.SparkSession(sc).builder.appName(APP_NAME).getOrCreate()"
   ]
  },
  {
   "cell_type": "code",
   "execution_count": 106,
   "metadata": {},
   "outputs": [],
   "source": [
    "ds = spark.read.format(\"com.mongodb.spark.sql.DefaultSource\").option(\"uri\",\n",
    "\"mongodb://localhost/crymeclarity.incidents\").load()"
   ]
  },
  {
   "cell_type": "code",
   "execution_count": 107,
   "metadata": {},
   "outputs": [],
   "source": [
    "from pyspark.sql.types import ArrayType, StructType, IntegerType, StructField, StringType, FloatType, TimestampType\n",
    "from pyspark.sql.functions import udf\n",
    "\n",
    "def assign_coordinate_to_lat_box(latitude):\n",
    "    lat_box = abs(int(latitude/.008726950000000073))\n",
    "    return lat_box\n",
    "def assign_coordinate_to_lon_box(longitude):\n",
    "    lon_box = abs(int(longitude/0.007254180000003885))\n",
    "    return lon_box\n",
    "\n",
    "def time_occ_to_seconds(time_occ):\n",
    "    return int(time_occ[:2])*60**2 + int(time_occ[2:])*60\n",
    "\n",
    "actb_lat = udf(assign_coordinate_to_lat_box, IntegerType())\n",
    "actb_lon = udf(assign_coordinate_to_lon_box, IntegerType())\n",
    "ts_conv = udf(cla_timestamp_to_datetime, TimestampType())\n",
    "t_occ_conv = udf(time_occ_to_seconds, IntegerType())"
   ]
  },
  {
   "cell_type": "code",
   "execution_count": 108,
   "metadata": {},
   "outputs": [],
   "source": [
    "ds = ds.withColumn('lat_bb', actb_lat(ds.location_1.coordinates[0]))\n",
    "ds = ds.withColumn('lon_bb', actb_lon(ds.location_1.coordinates[1]))\n",
    "ds = ds.withColumn('date_occ', ts_conv(ds.date_occ))\n",
    "ds = ds.withColumn('time_occ_seconds', t_occ_conv(ds.time_occ))"
   ]
  },
  {
   "cell_type": "code",
   "execution_count": 109,
   "metadata": {},
   "outputs": [],
   "source": [
    "A = spark.read.format(\"jdbc\").options(\n",
    "url =\"jdbc:mysql://localhost/crymeweb?serverTimezone=UTC\",\n",
    "driver=\"com.mysql.jdbc.Driver\",\n",
    "dbtable=\"safety_safetyanalysisrequest\",\n",
    "user=\"root\",\n",
    "password=\"\"\n",
    ").load()\n"
   ]
  },
  {
   "cell_type": "code",
   "execution_count": 110,
   "metadata": {},
   "outputs": [],
   "source": [
    "A = A.withColumn('lat_bb', actb_lat(A.latitude))\n",
    "A = A.withColumn('lon_bb', actb_lon(A.longitude))"
   ]
  },
  {
   "cell_type": "code",
   "execution_count": 111,
   "metadata": {},
   "outputs": [],
   "source": [
    "res = A.join(ds, (A.lat_bb == ds.lat_bb) & (A.lon_bb == ds.lon_bb))\n"
   ]
  },
  {
   "cell_type": "code",
   "execution_count": 112,
   "metadata": {},
   "outputs": [
    {
     "data": {
      "text/plain": [
       "1119"
      ]
     },
     "execution_count": 112,
     "metadata": {},
     "output_type": "execute_result"
    }
   ],
   "source": [
    "res.count()"
   ]
  },
  {
   "cell_type": "code",
   "execution_count": 113,
   "metadata": {},
   "outputs": [],
   "source": [
    "import pyspark.sql.functions as psf\n",
    "\n",
    "res = res.withColumn('timestamp_unix', psf.unix_timestamp(res.timestamp))\n",
    "res = res.withColumn('date_occ_unix', psf.unix_timestamp(res.date_occ))\n",
    "res = res.withColumn('ts_occ_unix', res.date_occ_unix + res.time_occ_seconds)\n",
    "\n",
    "res = res.filter(res.ts_occ_unix - res.timestamp_unix < 3600)\n",
    "res = res.filter(res.ts_occ_unix - res.timestamp_unix > 0)"
   ]
  },
  {
   "cell_type": "code",
   "execution_count": 116,
   "metadata": {},
   "outputs": [
    {
     "data": {
      "text/plain": [
       "0"
      ]
     },
     "execution_count": 116,
     "metadata": {},
     "output_type": "execute_result"
    }
   ],
   "source": [
    "res.count()"
   ]
  },
  {
   "cell_type": "code",
   "execution_count": 94,
   "metadata": {},
   "outputs": [
    {
     "data": {
      "text/plain": [
       "3600"
      ]
     },
     "execution_count": 94,
     "metadata": {},
     "output_type": "execute_result"
    }
   ],
   "source": [
    "60*60"
   ]
  },
  {
   "cell_type": "code",
   "execution_count": null,
   "metadata": {},
   "outputs": [],
   "source": [
    "1521890561"
   ]
  },
  {
   "cell_type": "code",
   "execution_count": 41,
   "metadata": {},
   "outputs": [
    {
     "data": {
      "text/plain": [
       "43200"
      ]
     },
     "execution_count": 41,
     "metadata": {},
     "output_type": "execute_result"
    }
   ],
   "source": [
    "res.first().time_occ_seconds"
   ]
  },
  {
   "cell_type": "code",
   "execution_count": null,
   "metadata": {},
   "outputs": [],
   "source": [
    "'035'[2:]"
   ]
  },
  {
   "cell_type": "code",
   "execution_count": null,
   "metadata": {},
   "outputs": [],
   "source": [
    "res.first()"
   ]
  },
  {
   "cell_type": "code",
   "execution_count": null,
   "metadata": {},
   "outputs": [],
   "source": [
    "def assign_coordinate_to_box(longitude, latitude):\n",
    "    lon_box = abs(int(longitude/0.007254180000003885))\n",
    "    lat_box = abs(int(latitude/.008726950000000073))\n",
    "    \n",
    "    return 'box_'+ str(lat_box) + '_' + str(lon_box)"
   ]
  },
  {
   "cell_type": "code",
   "execution_count": null,
   "metadata": {},
   "outputs": [],
   "source": [
    "assign_coordinate_to_box(34.164872, -118.437578)"
   ]
  },
  {
   "cell_type": "code",
   "execution_count": null,
   "metadata": {},
   "outputs": [],
   "source": [
    "assign_coordinate_to_box(34.162790, -118.431342)"
   ]
  },
  {
   "cell_type": "code",
   "execution_count": null,
   "metadata": {},
   "outputs": [],
   "source": [
    "0.007254180000003885, 0.8726950000000073"
   ]
  }
 ],
 "metadata": {
  "kernelspec": {
   "display_name": "Python 3",
   "language": "python",
   "name": "python3"
  },
  "language_info": {
   "codemirror_mode": {
    "name": "ipython",
    "version": 3
   },
   "file_extension": ".py",
   "mimetype": "text/x-python",
   "name": "python",
   "nbconvert_exporter": "python",
   "pygments_lexer": "ipython3",
   "version": "3.6.7"
  }
 },
 "nbformat": 4,
 "nbformat_minor": 2
}
