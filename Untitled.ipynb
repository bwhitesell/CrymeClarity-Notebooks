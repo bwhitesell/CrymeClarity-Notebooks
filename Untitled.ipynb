{
 "cells": [
  {
   "cell_type": "code",
   "execution_count": 1,
   "metadata": {},
   "outputs": [],
   "source": [
    "import pyspark\n",
    "from utils import *\n",
    "\n",
    "APP_NAME = 'Exploration-Notebook'\n",
    "sc = pyspark.SparkContext()\n",
    "spark = pyspark.sql.SparkSession(sc).builder.appName(APP_NAME).getOrCreate()"
   ]
  },
  {
   "cell_type": "code",
   "execution_count": 21,
   "metadata": {},
   "outputs": [],
   "source": [
    "ds = spark.read.format(\"com.mongodb.spark.sql.DefaultSource\").option(\"uri\",\n",
    "\"mongodb://localhost/crymeclarity.incidents\").load()"
   ]
  },
  {
   "cell_type": "code",
   "execution_count": 44,
   "metadata": {},
   "outputs": [],
   "source": [
    "from pyspark.sql.types import StringType\n",
    "from pyspark.sql.functions import udf\n",
    "\n",
    "def assign_coordinate_to_box(longitude, latitude):\n",
    "    lon_box = abs(int(longitude/0.007254180000003885))\n",
    "    lat_box = abs(int(latitude/.008726950000000073))\n",
    "    \n",
    "    return 'box_'+ str(lat_box) + '_' + str(lon_box)\n",
    "\n",
    "actb = udf(lambda x, y: assign_coordinate_to_box(x, y), StringType())"
   ]
  },
  {
   "cell_type": "code",
   "execution_count": 45,
   "metadata": {},
   "outputs": [],
   "source": [
    "ds = ds.withColumn('location_1', actb(ds.location_1.coordinates[1], ds.location_1.coordinates[0])).first()\n"
   ]
  },
  {
   "cell_type": "code",
   "execution_count": 24,
   "metadata": {},
   "outputs": [
    {
     "data": {
      "text/plain": [
       "Column<b'location_1'>"
      ]
     },
     "execution_count": 24,
     "metadata": {},
     "output_type": "execute_result"
    }
   ],
   "source": [
    "ds.location_1"
   ]
  },
  {
   "cell_type": "code",
   "execution_count": 16,
   "metadata": {},
   "outputs": [
    {
     "data": {
      "text/plain": [
       "'box_13571_4687'"
      ]
     },
     "execution_count": 16,
     "metadata": {},
     "output_type": "execute_result"
    }
   ],
   "source": [
    "e.first()"
   ]
  },
  {
   "cell_type": "code",
   "execution_count": 5,
   "metadata": {},
   "outputs": [
    {
     "data": {
      "text/plain": [
       "[Row(id=1, latitude=-118.41249864615578, longitude=34.16825399538882, timestamp=datetime.datetime(2018, 10, 23, 18, 33, 18, 618449), estimate=None, model_id=None),\n",
       " Row(id=2, latitude=-118.6291741148338, longitude=34.20046220981372, timestamp=datetime.datetime(2018, 6, 19, 8, 28, 8, 137232), estimate=None, model_id=None),\n",
       " Row(id=3, latitude=-118.23903141641468, longitude=34.098302915303066, timestamp=datetime.datetime(2018, 4, 2, 9, 35, 9, 863161), estimate=None, model_id=None),\n",
       " Row(id=4, latitude=-118.33342946929231, longitude=33.998960200044806, timestamp=datetime.datetime(2018, 1, 10, 5, 46, 43, 643117), estimate=None, model_id=None),\n",
       " Row(id=5, latitude=-118.44140318443054, longitude=33.963766649218805, timestamp=datetime.datetime(2018, 2, 5, 2, 35, 23, 564878), estimate=None, model_id=None),\n",
       " Row(id=6, latitude=-118.52734953757275, longitude=34.22224575121743, timestamp=datetime.datetime(2019, 2, 22, 8, 9, 59, 655748), estimate=None, model_id=None),\n",
       " Row(id=7, latitude=-118.27606693898552, longitude=33.725482341643286, timestamp=datetime.datetime(2018, 11, 1, 9, 42, 48, 307768), estimate=None, model_id=None),\n",
       " Row(id=8, latitude=-118.56535352460585, longitude=34.1181392748073, timestamp=datetime.datetime(2018, 5, 22, 17, 16, 6, 174449), estimate=None, model_id=None),\n",
       " Row(id=9, latitude=-118.30031742518642, longitude=34.267233399833465, timestamp=datetime.datetime(2018, 7, 28, 2, 19, 29, 170505), estimate=None, model_id=None),\n",
       " Row(id=10, latitude=-118.50675568395008, longitude=34.15621721961536, timestamp=datetime.datetime(2018, 6, 29, 15, 47, 25, 355730), estimate=None, model_id=None)]"
      ]
     },
     "execution_count": 5,
     "metadata": {},
     "output_type": "execute_result"
    }
   ],
   "source": [
    "spark.read.format(\"jdbc\").options(\n",
    "url =\"jdbc:mysql://localhost/crymeweb\",\n",
    "driver=\"com.mysql.jdbc.Driver\",\n",
    "dbtable=\"safety_safetyanalysisrequest\",\n",
    "user=\"root\",\n",
    "password=\"\"\n",
    ").load().take(10) \n"
   ]
  },
  {
   "cell_type": "code",
   "execution_count": 47,
   "metadata": {},
   "outputs": [],
   "source": [
    "def assign_coordinate_to_box(longitude, latitude):\n",
    "    lon_box = abs(int(longitude/0.007254180000003885))\n",
    "    lat_box = abs(int(latitude/.008726950000000073))\n",
    "    \n",
    "    return 'box_'+ str(lat_box) + '_' + str(lon_box)"
   ]
  },
  {
   "cell_type": "code",
   "execution_count": 48,
   "metadata": {},
   "outputs": [
    {
     "data": {
      "text/plain": [
       "'box_13571_4709'"
      ]
     },
     "execution_count": 48,
     "metadata": {},
     "output_type": "execute_result"
    }
   ],
   "source": [
    "assign_coordinate_to_box(34.164872, -118.437578)"
   ]
  },
  {
   "cell_type": "code",
   "execution_count": 49,
   "metadata": {},
   "outputs": [
    {
     "data": {
      "text/plain": [
       "'box_13570_4709'"
      ]
     },
     "execution_count": 49,
     "metadata": {},
     "output_type": "execute_result"
    }
   ],
   "source": [
    "assign_coordinate_to_box(34.162790, -118.431342)"
   ]
  },
  {
   "cell_type": "code",
   "execution_count": null,
   "metadata": {},
   "outputs": [],
   "source": [
    "0.007254180000003885, 0.8726950000000073"
   ]
  }
 ],
 "metadata": {
  "kernelspec": {
   "display_name": "Python 3",
   "language": "python",
   "name": "python3"
  },
  "language_info": {
   "codemirror_mode": {
    "name": "ipython",
    "version": 3
   },
   "file_extension": ".py",
   "mimetype": "text/x-python",
   "name": "python",
   "nbconvert_exporter": "python",
   "pygments_lexer": "ipython3",
   "version": "3.6.5"
  }
 },
 "nbformat": 4,
 "nbformat_minor": 2
}
