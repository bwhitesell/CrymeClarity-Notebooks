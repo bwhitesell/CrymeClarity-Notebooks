{
 "cells": [
  {
   "cell_type": "markdown",
   "metadata": {},
   "source": [
    "### <div align='center'>Data Exploration</div>\n",
    "\n",
    "----\n",
    "Before diving into the approach that seems intuitive, lets take a look at the shape and form of the data a bit."
   ]
  },
  {
   "cell_type": "code",
   "execution_count": 1,
   "metadata": {},
   "outputs": [],
   "source": [
    "import findspark\n",
    "findspark.init()\n",
    "import pyspark\n",
    "\n",
    "APP_NAME = 'Exploration-Notebook'\n",
    "sc = pyspark.SparkContext()\n",
    "spark = pyspark.sql.SparkSession(sc).builder.appName(APP_NAME).getOrCreate()\n"
   ]
  },
  {
   "cell_type": "code",
   "execution_count": 2,
   "metadata": {},
   "outputs": [],
   "source": [
    "from utils import *\n",
    "import datetime"
   ]
  },
  {
   "cell_type": "code",
   "execution_count": 3,
   "metadata": {},
   "outputs": [],
   "source": [
    "ds = df_to_rdd(spark.read.format(\"com.mongodb.spark.sql.DefaultSource\").option(\"uri\",\n",
    "\"mongodb://localhost/crymeclarity.incidents_test\").load())\n",
    "# lets only look at data from a single day"
   ]
  },
  {
   "cell_type": "markdown",
   "metadata": {},
   "source": [
    "### Location"
   ]
  },
  {
   "cell_type": "code",
   "execution_count": 4,
   "metadata": {},
   "outputs": [],
   "source": [
    "# now take just the location data\n",
    "dl = ds.map(lambda x: x['location_1']['coordinates'])\n",
    "coords = dl.collect()\n",
    "coords = [a for a in coords if a[0] <= -20]\n",
    "x = [a[0] for a in coords]\n",
    "y = [a[1] for a in coords] "
   ]
  },
  {
   "cell_type": "code",
   "execution_count": 11,
   "metadata": {},
   "outputs": [
    {
     "data": {
      "image/png": "[encoded data removed]",
      "text/plain": [
       "<Figure size 432x288 with 1 Axes>"
      ]
     },
     "metadata": {
      "needs_background": "light"
     },
     "output_type": "display_data"
    }
   ],
   "source": [
    "from matplotlib import pyplot as plt\n",
    "plt.scatter(x,y)\n",
    "plt.xlabel('longitude')\n",
    "plt.ylabel('latitude')\n",
    "plt.title('Crime Reports in the City of LA on (3/1/2019)')\n",
    "plt.show()"
   ]
  },
  {
   "cell_type": "markdown",
   "metadata": {},
   "source": [
    "### Time Occurance of incidents"
   ]
  },
  {
   "cell_type": "code",
   "execution_count": 6,
   "metadata": {},
   "outputs": [],
   "source": [
    "import numpy as np\n",
    "# Function to plot a histogram using pyplot\n",
    "def create_hist(rdd_histogram_data):\n",
    "    \"\"\"Given an RDD.histogram, plot a pyplot histogram\"\"\"\n",
    "    heights = np.array(rdd_histogram_data[1])\n",
    "    full_bins = rdd_histogram_data[0]\n",
    "    mid_point_bins = full_bins[:-1]\n",
    "    widths = [abs(i - j) for i, j in zip(full_bins[:-1], full_bins[1:])]\n",
    "    bar = plt.bar(mid_point_bins, heights, width=widths, color='b')\n",
    "    return bar"
   ]
  },
  {
   "cell_type": "code",
   "execution_count": 7,
   "metadata": {
    "scrolled": true
   },
   "outputs": [
    {
     "data": {
      "text/plain": [
       "<BarContainer object of 20 artists>"
      ]
     },
     "execution_count": 7,
     "metadata": {},
     "output_type": "execute_result"
    },
    {
     "data": {
      "image/png": "[encoded data removed]",
      "text/plain": [
       "<Figure size 432x288 with 1 Axes>"
      ]
     },
     "metadata": {
      "needs_background": "light"
     },
     "output_type": "display_data"
    }
   ],
   "source": [
    "create_hist(ds.map(lambda x: float(x['time_occ'])).histogram(20))"
   ]
  },
  {
   "cell_type": "markdown",
   "metadata": {},
   "source": [
    "### Age of Victims"
   ]
  },
  {
   "cell_type": "code",
   "execution_count": 8,
   "metadata": {},
   "outputs": [
    {
     "data": {
      "text/plain": [
       "<BarContainer object of 20 artists>"
      ]
     },
     "execution_count": 8,
     "metadata": {},
     "output_type": "execute_result"
    },
    {
     "data": {
      "image/png": "[encoded data removed]",
      "text/plain": [
       "<Figure size 432x288 with 1 Axes>"
      ]
     },
     "metadata": {
      "needs_background": "light"
     },
     "output_type": "display_data"
    }
   ],
   "source": [
    "def valid_float(x):\n",
    "    try:\n",
    "        float(x)\n",
    "        return True\n",
    "    except:\n",
    "        return False\n",
    "ds_va = ds.filter(lambda x: valid_float(x['vict_age']))\n",
    "create_hist(ds_va.map(lambda x: float(x['vict_age'])).histogram(20))"
   ]
  },
  {
   "cell_type": "markdown",
   "metadata": {},
   "source": [
    "### Incidents by Area"
   ]
  },
  {
   "cell_type": "code",
   "execution_count": 9,
   "metadata": {},
   "outputs": [
    {
     "data": {
      "text/plain": [
       "[{'area_name': '77th Street', 'n_incidents': 41},\n",
       " {'area_name': 'Olympic', 'n_incidents': 38},\n",
       " {'area_name': 'Pacific', 'n_incidents': 37},\n",
       " {'area_name': 'West LA', 'n_incidents': 36},\n",
       " {'area_name': 'N Hollywood', 'n_incidents': 35},\n",
       " {'area_name': 'Topanga', 'n_incidents': 34},\n",
       " {'area_name': 'Hollenbeck', 'n_incidents': 33},\n",
       " {'area_name': 'Van Nuys', 'n_incidents': 32},\n",
       " {'area_name': 'Hollywood', 'n_incidents': 30},\n",
       " {'area_name': 'Southeast', 'n_incidents': 30},\n",
       " {'area_name': 'Mission', 'n_incidents': 30},\n",
       " {'area_name': 'Southwest', 'n_incidents': 28},\n",
       " {'area_name': 'Newton', 'n_incidents': 27},\n",
       " {'area_name': 'Devonshire', 'n_incidents': 27},\n",
       " {'area_name': 'West Valley', 'n_incidents': 25},\n",
       " {'area_name': 'Northeast', 'n_incidents': 24},\n",
       " {'area_name': 'Central', 'n_incidents': 23},\n",
       " {'area_name': 'Wilshire', 'n_incidents': 23},\n",
       " {'area_name': 'Rampart', 'n_incidents': 22},\n",
       " {'area_name': 'Foothill', 'n_incidents': 22},\n",
       " {'area_name': 'Harbor', 'n_incidents': 20}]"
      ]
     },
     "execution_count": 9,
     "metadata": {},
     "output_type": "execute_result"
    }
   ],
   "source": [
    "g_ds = ds.groupBy(lambda x: x[\"area_name\"])\n",
    "g_ds = g_ds.map(lambda x: {\"area_name\": x[0], \"n_incidents\": len(x[1])})\n",
    "g_ds.collect()\n",
    "sorted(g_ds.collect(), key=lambda x: x['n_incidents'], reverse=True)"
   ]
  },
  {
   "cell_type": "markdown",
   "metadata": {},
   "source": [
    "### Incidents by Crime-Type"
   ]
  },
  {
   "cell_type": "code",
   "execution_count": 10,
   "metadata": {},
   "outputs": [
    {
     "data": {
      "text/plain": [
       "[{'crm_cd_desc': 'BURGLARY FROM VEHICLE', 'n_incidents': 50},\n",
       " {'crm_cd_desc': 'BURGLARY', 'n_incidents': 49},\n",
       " {'crm_cd_desc': 'THEFT PLAIN - PETTY ($950 & UNDER)', 'n_incidents': 46},\n",
       " {'crm_cd_desc': 'BATTERY - SIMPLE ASSAULT', 'n_incidents': 46},\n",
       " {'crm_cd_desc': 'VEHICLE - STOLEN', 'n_incidents': 44},\n",
       " {'crm_cd_desc': 'VANDALISM - FELONY ($400 & OVER, ALL CHURCH VANDALISMS)',\n",
       "  'n_incidents': 36},\n",
       " {'crm_cd_desc': 'THEFT FROM MOTOR VEHICLE - PETTY ($950 & UNDER)',\n",
       "  'n_incidents': 35},\n",
       " {'crm_cd_desc': 'ROBBERY', 'n_incidents': 27},\n",
       " {'crm_cd_desc': 'VANDALISM - MISDEAMEANOR ($399 OR UNDER)',\n",
       "  'n_incidents': 26},\n",
       " {'crm_cd_desc': 'CRIMINAL THREATS - NO WEAPON DISPLAYED', 'n_incidents': 25},\n",
       " {'crm_cd_desc': 'THEFT OF IDENTITY', 'n_incidents': 25},\n",
       " {'crm_cd_desc': 'ASSAULT WITH DEADLY WEAPON, AGGRAVATED ASSAULT',\n",
       "  'n_incidents': 22},\n",
       " {'crm_cd_desc': 'INTIMATE PARTNER - SIMPLE ASSAULT', 'n_incidents': 22},\n",
       " {'crm_cd_desc': 'THEFT-GRAND ($950.01 & OVER)EXCPT,GUNS,FOWL,LIVESTK,PROD',\n",
       "  'n_incidents': 22},\n",
       " {'crm_cd_desc': 'SHOPLIFTING - PETTY THEFT ($950 & UNDER)',\n",
       "  'n_incidents': 21},\n",
       " {'crm_cd_desc': 'BRANDISH WEAPON', 'n_incidents': 11},\n",
       " {'crm_cd_desc': 'THEFT FROM MOTOR VEHICLE - GRAND ($400 AND OVER)',\n",
       "  'n_incidents': 11},\n",
       " {'crm_cd_desc': 'BUNCO, GRAND THEFT', 'n_incidents': 11},\n",
       " {'crm_cd_desc': 'VIOLATION OF RESTRAINING ORDER', 'n_incidents': 9},\n",
       " {'crm_cd_desc': 'BIKE - STOLEN', 'n_incidents': 8},\n",
       " {'crm_cd_desc': 'TRESPASSING', 'n_incidents': 7},\n",
       " {'crm_cd_desc': 'LETTERS, LEWD  -  TELEPHONE CALLS, LEWD', 'n_incidents': 6},\n",
       " {'crm_cd_desc': 'THEFT, PERSON', 'n_incidents': 6},\n",
       " {'crm_cd_desc': 'OTHER ASSAULT', 'n_incidents': 4},\n",
       " {'crm_cd_desc': 'RESISTING ARREST', 'n_incidents': 4},\n",
       " {'crm_cd_desc': 'VIOLATION OF COURT ORDER', 'n_incidents': 4},\n",
       " {'crm_cd_desc': 'INTIMATE PARTNER - AGGRAVATED ASSAULT', 'n_incidents': 4},\n",
       " {'crm_cd_desc': 'BURGLARY, ATTEMPTED', 'n_incidents': 4},\n",
       " {'crm_cd_desc': 'CHILD ABUSE (PHYSICAL) - SIMPLE ASSAULT', 'n_incidents': 3},\n",
       " {'crm_cd_desc': 'OTHER MISCELLANEOUS CRIME', 'n_incidents': 3},\n",
       " {'crm_cd_desc': 'DISCHARGE FIREARMS/SHOTS FIRED', 'n_incidents': 3},\n",
       " {'crm_cd_desc': 'BUNCO, PETTY THEFT', 'n_incidents': 3},\n",
       " {'crm_cd_desc': 'BATTERY WITH SEXUAL CONTACT', 'n_incidents': 2},\n",
       " {'crm_cd_desc': 'SHOPLIFTING-GRAND THEFT ($950.01 & OVER)', 'n_incidents': 2},\n",
       " {'crm_cd_desc': 'VEHICLE - ATTEMPT STOLEN', 'n_incidents': 2},\n",
       " {'crm_cd_desc': 'CHILD ANNOYING (17YRS & UNDER)', 'n_incidents': 2},\n",
       " {'crm_cd_desc': 'RAPE, FORCIBLE', 'n_incidents': 2},\n",
       " {'crm_cd_desc': 'DOCUMENT FORGERY / STOLEN FELONY', 'n_incidents': 2},\n",
       " {'crm_cd_desc': 'ATTEMPTED ROBBERY', 'n_incidents': 2},\n",
       " {'crm_cd_desc': 'INDECENT EXPOSURE', 'n_incidents': 1},\n",
       " {'crm_cd_desc': 'THREATENING PHONE CALLS/LETTERS', 'n_incidents': 1},\n",
       " {'crm_cd_desc': 'COUNTERFEIT', 'n_incidents': 1},\n",
       " {'crm_cd_desc': 'THEFT FROM PERSON - ATTEMPT', 'n_incidents': 1},\n",
       " {'crm_cd_desc': 'THROWING OBJECT AT MOVING VEHICLE', 'n_incidents': 1},\n",
       " {'crm_cd_desc': 'CONTEMPT OF COURT', 'n_incidents': 1}]"
      ]
     },
     "execution_count": 10,
     "metadata": {},
     "output_type": "execute_result"
    }
   ],
   "source": [
    "g_ds = ds.groupBy(lambda x: x[\"crm_cd_desc\"])\n",
    "g_ds = g_ds.map(lambda x: {\"crm_cd_desc\": x[0], \"n_incidents\": len(x[1])})\n",
    "g_ds.collect()\n",
    "sorted(g_ds.collect(), key=lambda x: x['n_incidents'], reverse=True)"
   ]
  },
  {
   "cell_type": "code",
   "execution_count": null,
   "metadata": {},
   "outputs": [],
   "source": []
  }
 ],
 "metadata": {
  "kernelspec": {
   "display_name": "Python 3",
   "language": "python",
   "name": "python3"
  },
  "language_info": {
   "codemirror_mode": {
    "name": "ipython",
    "version": 3
   },
   "file_extension": ".py",
   "mimetype": "text/x-python",
   "name": "python",
   "nbconvert_exporter": "python",
   "pygments_lexer": "ipython3",
   "version": "3.6.7"
  }
 },
 "nbformat": 4,
 "nbformat_minor": 2
}
